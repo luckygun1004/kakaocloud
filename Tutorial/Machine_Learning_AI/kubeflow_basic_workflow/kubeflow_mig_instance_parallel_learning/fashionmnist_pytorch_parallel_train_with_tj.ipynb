{
 "cells": [
  {
   "cell_type": "markdown",
   "id": "139e1840-06f6-49ba-aeec-61f0c3697bd4",
   "metadata": {
    "execution": {
     "iopub.execute_input": "2023-06-15T06:14:44.119679Z",
     "iopub.status.busy": "2023-06-15T06:14:44.119244Z",
     "iopub.status.idle": "2023-06-15T06:14:46.737888Z",
     "shell.execute_reply": "2023-06-15T06:14:46.736664Z",
     "shell.execute_reply.started": "2023-06-15T06:14:44.119627Z"
    },
    "jupyter": {
     "outputs_hidden": true
    },
    "tags": []
   },
   "source": [
    "# 노트북에서 Training Operator를 활용하여 병렬 학습 모델 구현하기"
   ]
  },
  {
   "cell_type": "code",
   "execution_count": 1,
   "id": "625ddfda-d89c-475e-a117-100d3ad97548",
   "metadata": {
    "tags": []
   },
   "outputs": [
    {
     "name": "stderr",
     "output_type": "stream",
     "text": []
    }
   ],
   "source": [
    "import warnings\n",
    "warnings.simplefilter(action='ignore', category=FutureWarning)\n",
    "from kakaocloud_kbm.training import TrainingClient\n",
    "from kakaocloud_kbm.training.utils.utils import get_default_target_namespace"
   ]
  },
  {
   "cell_type": "markdown",
   "id": "815ce37b-98ef-4523-aa00-d52d423318a7",
   "metadata": {},
   "source": [
    "## Fashion MNIST CNN 모델 학습 함수 선언\n",
    "\n",
    "- Training Job에 넣어줄 간단한 CNN 모델 학습 함수를 선언합니다\n",
    "- torchvision 패키지를 통해 Fashion MNIST 데이터를 다운로드 코드 포함"
   ]
  },
  {
   "cell_type": "code",
   "execution_count": 2,
   "id": "d7bd6e1f-11da-4643-8000-3b5d552a39ff",
   "metadata": {
    "tags": []
   },
   "outputs": [],
   "source": [
    "def train_pytorch_model():\n",
    "    import logging\n",
    "    import time\n",
    "    import datetime\n",
    "    import os  \n",
    "    import torch  \n",
    "    import torch.multiprocessing as mp  \n",
    "    from torch import nn  \n",
    "    from torch.distributed import init_process_group, destroy_process_group  \n",
    "    from torch.nn.parallel import DistributedDataParallel as DDP  \n",
    "    from torch.utils.data import DataLoader, Dataset  \n",
    "    from torch.utils.data.distributed import DistributedSampler  \n",
    "    from torchvision import datasets  \n",
    "    from torchvision.transforms import ToTensor  \n",
    "\n",
    "    logging.basicConfig(\n",
    "        format=\"%(asctime)s %(levelname)-8s %(message)s\",\n",
    "        datefmt=\"%Y-%m-%dT%H:%M:%SZ\",\n",
    "        level=logging.DEBUG,\n",
    "    )\n",
    "        \n",
    "    MAX_EPOCHS = 100\n",
    "    SAVE_EVERY = 1\n",
    "    BATCH_SIZE = 32  \n",
    "    device = torch.device(\"cuda\")\n",
    "\n",
    "    class Trainer:  \n",
    "        def __init__(  \n",
    "            self,  \n",
    "            model: torch.nn.Module,  \n",
    "            train_data: DataLoader,  \n",
    "            optimizer: torch.optim.Optimizer,  \n",
    "        ) -> None:  \n",
    "            self.model = DDP(model.to(device))  \n",
    "            self.train_data = train_data  \n",
    "            self.optimizer = optimizer\n",
    "            self.start_time = None\n",
    "            self.end_time = None\n",
    "            self.duration = None\n",
    "\n",
    "        def _run_epoch(self, epoch):  \n",
    "            b_sz = len(next(iter(self.train_data))[0])  \n",
    "            logging.info(f\"b_sz : {b_sz} / epoch : {epoch} / len data : {len(self.train_data)}\")  \n",
    "            for source, targets in self.train_data:  \n",
    "                source = source.to(device)\n",
    "\n",
    "                targets = targets.to(device)  \n",
    "                self.optimizer.zero_grad()\n",
    "                                \n",
    "                output = self.model(source)  \n",
    "                loss = torch.nn.CrossEntropyLoss()(output, targets)  \n",
    "                loss.backward()  \n",
    "                self.optimizer.step()  \n",
    "\n",
    "        def _save_checkpoint(self, epoch):  \n",
    "            ckp = self.model.module.state_dict()  \n",
    "            torch.save(ckp, \"ckpt.pt\")  \n",
    "            logging.info(f\"Epoch {epoch} | Training ckpt saved at ckpt.pt\")  \n",
    "\n",
    "        def train(self):\n",
    "            self.start_time = time.time()\n",
    "            for epoch in range(MAX_EPOCHS):  \n",
    "                self._run_epoch(epoch)  \n",
    "                if epoch % SAVE_EVERY == 0:  \n",
    "                    self._save_checkpoint(epoch)\n",
    "                    \n",
    "            self.end_time = time.time()\n",
    "            sec = self.end_time - self.start_time\n",
    "            self.duration = str(datetime.timedelta(seconds=sec))\n",
    "            logging.info(f\"{self.duration} sec\")\n",
    "\n",
    "\n",
    "    class NeuralNetwork(nn.Module):  \n",
    "        def __init__(self):  \n",
    "            super().__init__()  \n",
    "            self.flatten = nn.Flatten()  \n",
    "            self.linear_relu_stack = nn.Sequential(  \n",
    "                nn.Linear(28 * 28, 512), nn.ReLU(), nn.Linear(512, 512), nn.ReLU(), nn.Linear(512, 10)  \n",
    "            )  \n",
    "\n",
    "        def forward(self, x):  \n",
    "            x = self.flatten(x)  \n",
    "            logits = self.linear_relu_stack(x)  \n",
    "            return logits  \n",
    "\n",
    "\n",
    "    def load_train_dataset_model_and_opt():  \n",
    "        train_set = datasets.FashionMNIST(  \n",
    "            root=\"data\",  \n",
    "            train=True,  \n",
    "            download=True,  \n",
    "            transform=ToTensor(),  \n",
    "        )  \n",
    "\n",
    "        model = NeuralNetwork()\n",
    "        optimizer = torch.optim.SGD(model.parameters(), lr=1e-3)\n",
    "        return train_set, model, optimizer  \n",
    "\n",
    "\n",
    "    def prepare_dataloader(dataset: Dataset, batch_size: int):  \n",
    "        return DataLoader(  \n",
    "            dataset, batch_size=batch_size, pin_memory=True, shuffle=False, sampler=DistributedSampler(dataset)  \n",
    "        )\n",
    "\n",
    "    global main\n",
    "    def main(rank: int):\n",
    "        init_process_group(backend=\"nccl\")\n",
    "        dataset, model, optimizer = load_train_dataset_model_and_opt()  \n",
    "        logging.info(f\"WORLD_SIZE : {os.environ['WORLD_SIZE']} / len(dataset) : {len(dataset)}\")\n",
    "        train_data = prepare_dataloader(dataset, batch_size=BATCH_SIZE)\n",
    "        \n",
    "        trainer = Trainer(model, train_data, optimizer)\n",
    "        trainer.train()\n",
    "        destroy_process_group()\n",
    "            \n",
    "    if __name__ == \"__main__\":        \n",
    "        torch.cuda.empty_cache()\n",
    "        mp.spawn(  \n",
    "            main, \n",
    "        )\n"
   ]
  },
  {
   "cell_type": "markdown",
   "id": "fa631315-0103-46b6-b82c-106e93c70162",
   "metadata": {
    "execution": {
     "iopub.execute_input": "2023-06-15T07:49:53.850570Z",
     "iopub.status.busy": "2023-06-15T07:49:53.850224Z",
     "iopub.status.idle": "2023-06-15T07:49:53.855730Z",
     "shell.execute_reply": "2023-06-15T07:49:53.854241Z",
     "shell.execute_reply.started": "2023-06-15T07:49:53.850530Z"
    }
   },
   "source": [
    "## Training Job 실행"
   ]
  },
  {
   "cell_type": "code",
   "execution_count": 5,
   "id": "176685d1-8f5e-41e0-ae09-2085df2c3842",
   "metadata": {
    "tags": []
   },
   "outputs": [],
   "source": [
    "# VARIABLES\n",
    "my_namespace = get_default_target_namespace()\n",
    "pytorchjob_name = \"parallel-train-pytorch\"\n",
    "gpu_mig_for_1ea = {\n",
    "    \"nvidia.com/mig-1g.10gb\": \"1\",\n",
    "    \"cpu\": \"2\",\n",
    "    \"memory\": \"4G\"\n",
    "\n",
    "}\n",
    "num_workers = 5  # 병렬학습 GPU 수"
   ]
  },
  {
   "cell_type": "code",
   "execution_count": 6,
   "id": "f5b599c5-7217-4a3f-8195-ce9d0751df8b",
   "metadata": {
    "tags": []
   },
   "outputs": [
    {
     "name": "stderr",
     "output_type": "stream",
     "text": [
      "INFO:root:PyTorchJob kbm-u-admin-jin/parallel-train-pytorch2 has been created\n"
     ]
    }
   ],
   "source": [
    "training_client = TrainingClient()\n",
    "\n",
    "training_client.create_pytorchjob_from_func(\n",
    "    name=pytorchjob_name,\n",
    "    namespace=my_namespace,\n",
    "    func=train_pytorch_model,\n",
    "    base_image=\"bigdata-150.kr-central-2.kcr.dev/kc-kubeflow/pytorchjob-pytorch:1.12.1-cuda11.3-cudnn8-runtime\",\n",
    "    num_worker_replicas=num_workers-1,  # Worker 노드 수(1대는 Master) = 의도한 병렬학습 GPU - 1\n",
    "    limit_resources=gpu_mig_for_1ea\n",
    ")"
   ]
  },
  {
   "cell_type": "markdown",
   "id": "4894c2ea-20a2-467d-aade-eff62437364f",
   "metadata": {},
   "source": [
    "## Training Job 상태 확인"
   ]
  },
  {
   "cell_type": "code",
   "execution_count": 7,
   "id": "50d13d37-1bc6-445a-ab95-e73e688d7a06",
   "metadata": {
    "tags": []
   },
   "outputs": [
    {
     "name": "stdout",
     "output_type": "stream",
     "text": [
      "[{'last_transition_time': datetime.datetime(2024, 4, 20, 3, 49, 38, tzinfo=tzutc()),\n",
      " 'last_update_time': datetime.datetime(2024, 4, 20, 3, 49, 38, tzinfo=tzutc()),\n",
      " 'message': 'PyTorchJob parallel-train-pytorch2 is created.',\n",
      " 'reason': 'PyTorchJobCreated',\n",
      " 'status': 'True',\n",
      " 'type': 'Created'}, {'last_transition_time': datetime.datetime(2024, 4, 20, 3, 49, 40, tzinfo=tzutc()),\n",
      " 'last_update_time': datetime.datetime(2024, 4, 20, 3, 49, 40, tzinfo=tzutc()),\n",
      " 'message': 'PyTorchJob parallel-train-pytorch2 is running.',\n",
      " 'reason': 'JobRunning',\n",
      " 'status': 'True',\n",
      " 'type': 'Running'}]\n",
      "Is job running: True\n"
     ]
    }
   ],
   "source": [
    "# STATUS DETAILS\n",
    "print(training_client.get_job_conditions(name=pytorchjob_name, job_kind='PyTorchJob'))\n",
    "\n",
    "# RUN CHECK\n",
    "print(f\"Is job running: {training_client.is_job_running(name=pytorchjob_name, job_kind='PyTorchJob')}\")"
   ]
  },
  {
   "cell_type": "markdown",
   "id": "5759dc02-a0c2-48dd-beb3-7d8092853405",
   "metadata": {},
   "source": [
    "## 학습 Pod 확인"
   ]
  },
  {
   "cell_type": "code",
   "execution_count": 8,
   "id": "cdaac84f-6f62-40cc-b65b-d626b36ae248",
   "metadata": {
    "tags": []
   },
   "outputs": [
    {
     "data": {
      "text/plain": [
       "['parallel-train-pytorch2-master-0',\n",
       " 'parallel-train-pytorch2-worker-0',\n",
       " 'parallel-train-pytorch2-worker-1',\n",
       " 'parallel-train-pytorch2-worker-2',\n",
       " 'parallel-train-pytorch2-worker-3']"
      ]
     },
     "execution_count": 8,
     "metadata": {},
     "output_type": "execute_result"
    }
   ],
   "source": [
    "training_client.get_job_pod_names(pytorchjob_name)"
   ]
  },
  {
   "cell_type": "markdown",
   "id": "6b447255-df3d-447f-bb17-6f70fc84476d",
   "metadata": {},
   "source": [
    "## 로그 출력"
   ]
  },
  {
   "cell_type": "code",
   "execution_count": 9,
   "id": "04ca19f5-c627-47ab-b07a-3fa6424de1e1",
   "metadata": {
    "scrolled": true,
    "tags": []
   },
   "outputs": [
    {
     "name": "stderr",
     "output_type": "stream",
     "text": [
      "INFO:root:The logs of pod parallel-train-pytorch2-master-0:\n",
      " 2024-04-20T03:50:12Z INFO     Added key: store_based_barrier_key:1 to store for rank: 0\n",
      "2024-04-20T03:50:12Z INFO     Rank 0: Completed store-based barrier for key:store_based_barrier_key:1 with 5 nodes.\n",
      "Downloading http://fashion-mnist.s3-website.eu-central-1.amazonaws.com/train-images-idx3-ubyte.gz\n",
      "Downloading http://fashion-mnist.s3-website.eu-central-1.amazonaws.com/train-images-idx3-ubyte.gz to data/FashionMNIST/raw/train-images-idx3-ubyte.gz\n",
      "100%|██████████| 26421880/26421880 [01:10<00:00, 373109.10it/s] \n",
      "Extracting data/FashionMNIST/raw/train-images-idx3-ubyte.gz to data/FashionMNIST/raw\n",
      "\n",
      "Downloading http://fashion-mnist.s3-website.eu-central-1.amazonaws.com/train-labels-idx1-ubyte.gz\n",
      "Downloading http://fashion-mnist.s3-website.eu-central-1.amazonaws.com/train-labels-idx1-ubyte.gz to data/FashionMNIST/raw/train-labels-idx1-ubyte.gz\n",
      "100%|██████████| 29515/29515 [00:00<00:00, 110908.43it/s]\n",
      "Extracting data/FashionMNIST/raw/train-labels-idx1-ubyte.gz to data/FashionMNIST/raw\n",
      "\n",
      "Downloading http://fashion-mnist.s3-website.eu-central-1.amazonaws.com/t10k-images-idx3-ubyte.gz\n",
      "Downloading http://fashion-mnist.s3-website.eu-central-1.amazonaws.com/t10k-images-idx3-ubyte.gz to data/FashionMNIST/raw/t10k-images-idx3-ubyte.gz\n",
      "100%|██████████| 4422102/4422102 [00:22<00:00, 199871.39it/s]\n",
      "Extracting data/FashionMNIST/raw/t10k-images-idx3-ubyte.gz to data/FashionMNIST/raw\n",
      "\n",
      "Downloading http://fashion-mnist.s3-website.eu-central-1.amazonaws.com/t10k-labels-idx1-ubyte.gz\n",
      "Downloading http://fashion-mnist.s3-website.eu-central-1.amazonaws.com/t10k-labels-idx1-ubyte.gz to data/FashionMNIST/raw/t10k-labels-idx1-ubyte.gz\n",
      "100%|██████████| 5148/5148 [00:00<00:00, 37551786.07it/s]\n",
      "2024-04-20T03:51:57Z INFO     WORLD_SIZE : 5 / len(dataset) : 60000\n",
      "2024-04-20T03:52:10Z INFO     b_sz : 32 / epoch : 0 / len data : 375\n",
      "2024-04-20T03:52:11Z INFO     Reducer buckets have been rebuilt in this iteration.\n",
      "2024-04-20T03:52:14Z INFO     Epoch 0 | Training ckpt saved at ckpt.pt\n",
      "2024-04-20T03:52:15Z INFO     b_sz : 32 / epoch : 1 / len data : 375\n",
      "2024-04-20T03:52:19Z INFO     Epoch 1 | Training ckpt saved at ckpt.pt\n",
      "2024-04-20T03:52:19Z INFO     b_sz : 32 / epoch : 2 / len data : 375\n",
      "2024-04-20T03:52:23Z INFO     Epoch 2 | Training ckpt saved at ckpt.pt\n",
      "2024-04-20T03:52:23Z INFO     b_sz : 32 / epoch : 3 / len data : 375\n",
      "2024-04-20T03:52:27Z INFO     Epoch 3 | Training ckpt saved at ckpt.pt\n",
      "2024-04-20T03:52:27Z INFO     b_sz : 32 / epoch : 4 / len data : 375\n",
      "2024-04-20T03:52:32Z INFO     Epoch 4 | Training ckpt saved at ckpt.pt\n",
      "2024-04-20T03:52:32Z INFO     b_sz : 32 / epoch : 5 / len data : 375\n",
      "2024-04-20T03:52:36Z INFO     Epoch 5 | Training ckpt saved at ckpt.pt\n",
      "2024-04-20T03:52:36Z INFO     b_sz : 32 / epoch : 6 / len data : 375\n",
      "2024-04-20T03:52:40Z INFO     Epoch 6 | Training ckpt saved at ckpt.pt\n",
      "2024-04-20T03:52:41Z INFO     b_sz : 32 / epoch : 7 / len data : 375\n",
      "2024-04-20T03:52:45Z INFO     Epoch 7 | Training ckpt saved at ckpt.pt\n",
      "2024-04-20T03:52:45Z INFO     b_sz : 32 / epoch : 8 / len data : 375\n",
      "2024-04-20T03:52:49Z INFO     Epoch 8 | Training ckpt saved at ckpt.pt\n",
      "2024-04-20T03:52:49Z INFO     b_sz : 32 / epoch : 9 / len data : 375\n",
      "2024-04-20T03:52:53Z INFO     Epoch 9 | Training ckpt saved at ckpt.pt\n",
      "2024-04-20T03:52:54Z INFO     b_sz : 32 / epoch : 10 / len data : 375\n",
      "2024-04-20T03:52:57Z INFO     Epoch 10 | Training ckpt saved at ckpt.pt\n",
      "2024-04-20T03:52:58Z INFO     b_sz : 32 / epoch : 11 / len data : 375\n",
      "2024-04-20T03:53:02Z INFO     Epoch 11 | Training ckpt saved at ckpt.pt\n",
      "2024-04-20T03:53:02Z INFO     b_sz : 32 / epoch : 12 / len data : 375\n",
      "2024-04-20T03:53:07Z INFO     Epoch 12 | Training ckpt saved at ckpt.pt\n",
      "2024-04-20T03:53:07Z INFO     b_sz : 32 / epoch : 13 / len data : 375\n",
      "2024-04-20T03:53:11Z INFO     Epoch 13 | Training ckpt saved at ckpt.pt\n",
      "2024-04-20T03:53:11Z INFO     b_sz : 32 / epoch : 14 / len data : 375\n",
      "2024-04-20T03:53:16Z INFO     Epoch 14 | Training ckpt saved at ckpt.pt\n",
      "2024-04-20T03:53:16Z INFO     b_sz : 32 / epoch : 15 / len data : 375\n",
      "2024-04-20T03:53:21Z INFO     Epoch 15 | Training ckpt saved at ckpt.pt\n",
      "2024-04-20T03:53:21Z INFO     b_sz : 32 / epoch : 16 / len data : 375\n",
      "2024-04-20T03:53:26Z INFO     Epoch 16 | Training ckpt saved at ckpt.pt\n",
      "2024-04-20T03:53:26Z INFO     b_sz : 32 / epoch : 17 / len data : 375\n",
      "2024-04-20T03:53:31Z INFO     Epoch 17 | Training ckpt saved at ckpt.pt\n",
      "2024-04-20T03:53:31Z INFO     b_sz : 32 / epoch : 18 / len data : 375\n",
      "2024-04-20T03:53:36Z INFO     Epoch 18 | Training ckpt saved at ckpt.pt\n",
      "2024-04-20T03:53:36Z INFO     b_sz : 32 / epoch : 19 / len data : 375\n",
      "2024-04-20T03:53:41Z INFO     Epoch 19 | Training ckpt saved at ckpt.pt\n",
      "2024-04-20T03:53:41Z INFO     b_sz : 32 / epoch : 20 / len data : 375\n",
      "2024-04-20T03:53:45Z INFO     Epoch 20 | Training ckpt saved at ckpt.pt\n",
      "2024-04-20T03:53:45Z INFO     b_sz : 32 / epoch : 21 / len data : 375\n",
      "2024-04-20T03:53:51Z INFO     Epoch 21 | Training ckpt saved at ckpt.pt\n",
      "2024-04-20T03:53:51Z INFO     b_sz : 32 / epoch : 22 / len data : 375\n",
      "2024-04-20T03:53:56Z INFO     Epoch 22 | Training ckpt saved at ckpt.pt\n",
      "2024-04-20T03:53:56Z INFO     b_sz : 32 / epoch : 23 / len data : 375\n",
      "2024-04-20T03:54:00Z INFO     Epoch 23 | Training ckpt saved at ckpt.pt\n",
      "2024-04-20T03:54:00Z INFO     b_sz : 32 / epoch : 24 / len data : 375\n",
      "2024-04-20T03:54:05Z INFO     Epoch 24 | Training ckpt saved at ckpt.pt\n",
      "2024-04-20T03:54:05Z INFO     b_sz : 32 / epoch : 25 / len data : 375\n",
      "2024-04-20T03:54:10Z INFO     Epoch 25 | Training ckpt saved at ckpt.pt\n",
      "2024-04-20T03:54:10Z INFO     b_sz : 32 / epoch : 26 / len data : 375\n",
      "2024-04-20T03:54:14Z INFO     Epoch 26 | Training ckpt saved at ckpt.pt\n",
      "2024-04-20T03:54:15Z INFO     b_sz : 32 / epoch : 27 / len data : 375\n",
      "2024-04-20T03:54:19Z INFO     Epoch 27 | Training ckpt saved at ckpt.pt\n",
      "2024-04-20T03:54:19Z INFO     b_sz : 32 / epoch : 28 / len data : 375\n",
      "2024-04-20T03:54:23Z INFO     Epoch 28 | Training ckpt saved at ckpt.pt\n",
      "2024-04-20T03:54:23Z INFO     b_sz : 32 / epoch : 29 / len data : 375\n",
      "2024-04-20T03:54:28Z INFO     Epoch 29 | Training ckpt saved at ckpt.pt\n",
      "2024-04-20T03:54:28Z INFO     b_sz : 32 / epoch : 30 / len data : 375\n",
      "2024-04-20T03:54:33Z INFO     Epoch 30 | Training ckpt saved at ckpt.pt\n",
      "2024-04-20T03:54:33Z INFO     b_sz : 32 / epoch : 31 / len data : 375\n",
      "2024-04-20T03:54:37Z INFO     Epoch 31 | Training ckpt saved at ckpt.pt\n",
      "2024-04-20T03:54:37Z INFO     b_sz : 32 / epoch : 32 / len data : 375\n",
      "2024-04-20T03:54:42Z INFO     Epoch 32 | Training ckpt saved at ckpt.pt\n",
      "2024-04-20T03:54:42Z INFO     b_sz : 32 / epoch : 33 / len data : 375\n",
      "2024-04-20T03:54:47Z INFO     Epoch 33 | Training ckpt saved at ckpt.pt\n",
      "2024-04-20T03:54:47Z INFO     b_sz : 32 / epoch : 34 / len data : 375\n",
      "2024-04-20T03:54:52Z INFO     Epoch 34 | Training ckpt saved at ckpt.pt\n",
      "2024-04-20T03:54:52Z INFO     b_sz : 32 / epoch : 35 / len data : 375\n",
      "2024-04-20T03:54:56Z INFO     Epoch 35 | Training ckpt saved at ckpt.pt\n",
      "2024-04-20T03:54:57Z INFO     b_sz : 32 / epoch : 36 / len data : 375\n",
      "2024-04-20T03:55:01Z INFO     Epoch 36 | Training ckpt saved at ckpt.pt\n",
      "2024-04-20T03:55:01Z INFO     b_sz : 32 / epoch : 37 / len data : 375\n",
      "2024-04-20T03:55:06Z INFO     Epoch 37 | Training ckpt saved at ckpt.pt\n",
      "2024-04-20T03:55:06Z INFO     b_sz : 32 / epoch : 38 / len data : 375\n",
      "2024-04-20T03:55:10Z INFO     Epoch 38 | Training ckpt saved at ckpt.pt\n",
      "2024-04-20T03:55:10Z INFO     b_sz : 32 / epoch : 39 / len data : 375\n",
      "2024-04-20T03:55:15Z INFO     Epoch 39 | Training ckpt saved at ckpt.pt\n",
      "2024-04-20T03:55:15Z INFO     b_sz : 32 / epoch : 40 / len data : 375\n",
      "2024-04-20T03:55:19Z INFO     Epoch 40 | Training ckpt saved at ckpt.pt\n",
      "2024-04-20T03:55:19Z INFO     b_sz : 32 / epoch : 41 / len data : 375\n",
      "2024-04-20T03:55:24Z INFO     Epoch 41 | Training ckpt saved at ckpt.pt\n",
      "2024-04-20T03:55:24Z INFO     b_sz : 32 / epoch : 42 / len data : 375\n",
      "2024-04-20T03:55:29Z INFO     Epoch 42 | Training ckpt saved at ckpt.pt\n",
      "2024-04-20T03:55:29Z INFO     b_sz : 32 / epoch : 43 / len data : 375\n",
      "2024-04-20T03:55:33Z INFO     Epoch 43 | Training ckpt saved at ckpt.pt\n",
      "2024-04-20T03:55:33Z INFO     b_sz : 32 / epoch : 44 / len data : 375\n",
      "2024-04-20T03:55:38Z INFO     Epoch 44 | Training ckpt saved at ckpt.pt\n",
      "2024-04-20T03:55:38Z INFO     b_sz : 32 / epoch : 45 / len data : 375\n",
      "2024-04-20T03:55:43Z INFO     Epoch 45 | Training ckpt saved at ckpt.pt\n",
      "2024-04-20T03:55:43Z INFO     b_sz : 32 / epoch : 46 / len data : 375\n",
      "2024-04-20T03:55:47Z INFO     Epoch 46 | Training ckpt saved at ckpt.pt\n",
      "2024-04-20T03:55:47Z INFO     b_sz : 32 / epoch : 47 / len data : 375\n",
      "2024-04-20T03:55:52Z INFO     Epoch 47 | Training ckpt saved at ckpt.pt\n",
      "2024-04-20T03:55:53Z INFO     b_sz : 32 / epoch : 48 / len data : 375\n",
      "2024-04-20T03:55:57Z INFO     Epoch 48 | Training ckpt saved at ckpt.pt\n",
      "2024-04-20T03:55:57Z INFO     b_sz : 32 / epoch : 49 / len data : 375\n",
      "2024-04-20T03:56:03Z INFO     Epoch 49 | Training ckpt saved at ckpt.pt\n",
      "2024-04-20T03:56:03Z INFO     b_sz : 32 / epoch : 50 / len data : 375\n",
      "2024-04-20T03:56:07Z INFO     Epoch 50 | Training ckpt saved at ckpt.pt\n",
      "2024-04-20T03:56:07Z INFO     b_sz : 32 / epoch : 51 / len data : 375\n",
      "2024-04-20T03:56:12Z INFO     Epoch 51 | Training ckpt saved at ckpt.pt\n",
      "2024-04-20T03:56:12Z INFO     b_sz : 32 / epoch : 52 / len data : 375\n",
      "2024-04-20T03:56:17Z INFO     Epoch 52 | Training ckpt saved at ckpt.pt\n",
      "2024-04-20T03:56:17Z INFO     b_sz : 32 / epoch : 53 / len data : 375\n",
      "2024-04-20T03:56:22Z INFO     Epoch 53 | Training ckpt saved at ckpt.pt\n",
      "2024-04-20T03:56:22Z INFO     b_sz : 32 / epoch : 54 / len data : 375\n",
      "2024-04-20T03:56:27Z INFO     Epoch 54 | Training ckpt saved at ckpt.pt\n",
      "2024-04-20T03:56:27Z INFO     b_sz : 32 / epoch : 55 / len data : 375\n",
      "2024-04-20T03:56:32Z INFO     Epoch 55 | Training ckpt saved at ckpt.pt\n",
      "2024-04-20T03:56:32Z INFO     b_sz : 32 / epoch : 56 / len data : 375\n",
      "2024-04-20T03:56:37Z INFO     Epoch 56 | Training ckpt saved at ckpt.pt\n",
      "2024-04-20T03:56:37Z INFO     b_sz : 32 / epoch : 57 / len data : 375\n",
      "2024-04-20T03:56:42Z INFO     Epoch 57 | Training ckpt saved at ckpt.pt\n",
      "2024-04-20T03:56:42Z INFO     b_sz : 32 / epoch : 58 / len data : 375\n",
      "2024-04-20T03:56:46Z INFO     Epoch 58 | Training ckpt saved at ckpt.pt\n",
      "2024-04-20T03:56:46Z INFO     b_sz : 32 / epoch : 59 / len data : 375\n",
      "2024-04-20T03:56:51Z INFO     Epoch 59 | Training ckpt saved at ckpt.pt\n",
      "2024-04-20T03:56:51Z INFO     b_sz : 32 / epoch : 60 / len data : 375\n",
      "2024-04-20T03:56:56Z INFO     Epoch 60 | Training ckpt saved at ckpt.pt\n",
      "2024-04-20T03:56:56Z INFO     b_sz : 32 / epoch : 61 / len data : 375\n",
      "2024-04-20T03:57:01Z INFO     Epoch 61 | Training ckpt saved at ckpt.pt\n",
      "2024-04-20T03:57:01Z INFO     b_sz : 32 / epoch : 62 / len data : 375\n",
      "2024-04-20T03:57:05Z INFO     Epoch 62 | Training ckpt saved at ckpt.pt\n",
      "2024-04-20T03:57:05Z INFO     b_sz : 32 / epoch : 63 / len data : 375\n",
      "2024-04-20T03:57:10Z INFO     Epoch 63 | Training ckpt saved at ckpt.pt\n",
      "2024-04-20T03:57:10Z INFO     b_sz : 32 / epoch : 64 / len data : 375\n",
      "2024-04-20T03:57:14Z INFO     Epoch 64 | Training ckpt saved at ckpt.pt\n",
      "2024-04-20T03:57:15Z INFO     b_sz : 32 / epoch : 65 / len data : 375\n",
      "2024-04-20T03:57:19Z INFO     Epoch 65 | Training ckpt saved at ckpt.pt\n",
      "2024-04-20T03:57:19Z INFO     b_sz : 32 / epoch : 66 / len data : 375\n",
      "2024-04-20T03:57:25Z INFO     Epoch 66 | Training ckpt saved at ckpt.pt\n",
      "2024-04-20T03:57:25Z INFO     b_sz : 32 / epoch : 67 / len data : 375\n",
      "2024-04-20T03:57:29Z INFO     Epoch 67 | Training ckpt saved at ckpt.pt\n",
      "2024-04-20T03:57:30Z INFO     b_sz : 32 / epoch : 68 / len data : 375\n",
      "2024-04-20T03:57:34Z INFO     Epoch 68 | Training ckpt saved at ckpt.pt\n",
      "2024-04-20T03:57:34Z INFO     b_sz : 32 / epoch : 69 / len data : 375\n",
      "2024-04-20T03:57:39Z INFO     Epoch 69 | Training ckpt saved at ckpt.pt\n",
      "2024-04-20T03:57:40Z INFO     b_sz : 32 / epoch : 70 / len data : 375\n",
      "2024-04-20T03:57:44Z INFO     Epoch 70 | Training ckpt saved at ckpt.pt\n",
      "2024-04-20T03:57:45Z INFO     b_sz : 32 / epoch : 71 / len data : 375\n",
      "2024-04-20T03:57:49Z INFO     Epoch 71 | Training ckpt saved at ckpt.pt\n",
      "2024-04-20T03:57:49Z INFO     b_sz : 32 / epoch : 72 / len data : 375\n",
      "2024-04-20T03:57:54Z INFO     Epoch 72 | Training ckpt saved at ckpt.pt\n",
      "2024-04-20T03:57:54Z INFO     b_sz : 32 / epoch : 73 / len data : 375\n",
      "2024-04-20T03:57:58Z INFO     Epoch 73 | Training ckpt saved at ckpt.pt\n",
      "2024-04-20T03:57:58Z INFO     b_sz : 32 / epoch : 74 / len data : 375\n",
      "2024-04-20T03:58:02Z INFO     Epoch 74 | Training ckpt saved at ckpt.pt\n",
      "2024-04-20T03:58:02Z INFO     b_sz : 32 / epoch : 75 / len data : 375\n",
      "2024-04-20T03:58:07Z INFO     Epoch 75 | Training ckpt saved at ckpt.pt\n",
      "2024-04-20T03:58:07Z INFO     b_sz : 32 / epoch : 76 / len data : 375\n",
      "2024-04-20T03:58:11Z INFO     Epoch 76 | Training ckpt saved at ckpt.pt\n",
      "2024-04-20T03:58:12Z INFO     b_sz : 32 / epoch : 77 / len data : 375\n",
      "2024-04-20T03:58:16Z INFO     Epoch 77 | Training ckpt saved at ckpt.pt\n",
      "2024-04-20T03:58:16Z INFO     b_sz : 32 / epoch : 78 / len data : 375\n",
      "2024-04-20T03:58:20Z INFO     Epoch 78 | Training ckpt saved at ckpt.pt\n",
      "2024-04-20T03:58:20Z INFO     b_sz : 32 / epoch : 79 / len data : 375\n",
      "2024-04-20T03:58:25Z INFO     Epoch 79 | Training ckpt saved at ckpt.pt\n",
      "2024-04-20T03:58:25Z INFO     b_sz : 32 / epoch : 80 / len data : 375\n",
      "2024-04-20T03:58:29Z INFO     Epoch 80 | Training ckpt saved at ckpt.pt\n",
      "2024-04-20T03:58:29Z INFO     b_sz : 32 / epoch : 81 / len data : 375\n",
      "2024-04-20T03:58:33Z INFO     Epoch 81 | Training ckpt saved at ckpt.pt\n",
      "2024-04-20T03:58:34Z INFO     b_sz : 32 / epoch : 82 / len data : 375\n",
      "2024-04-20T03:58:38Z INFO     Epoch 82 | Training ckpt saved at ckpt.pt\n",
      "2024-04-20T03:58:38Z INFO     b_sz : 32 / epoch : 83 / len data : 375\n",
      "2024-04-20T03:58:42Z INFO     Epoch 83 | Training ckpt saved at ckpt.pt\n",
      "2024-04-20T03:58:42Z INFO     b_sz : 32 / epoch : 84 / len data : 375\n",
      "2024-04-20T03:58:47Z INFO     Epoch 84 | Training ckpt saved at ckpt.pt\n",
      "2024-04-20T03:58:47Z INFO     b_sz : 32 / epoch : 85 / len data : 375\n",
      "2024-04-20T03:58:52Z INFO     Epoch 85 | Training ckpt saved at ckpt.pt\n",
      "2024-04-20T03:58:52Z INFO     b_sz : 32 / epoch : 86 / len data : 375\n",
      "2024-04-20T03:58:56Z INFO     Epoch 86 | Training ckpt saved at ckpt.pt\n",
      "2024-04-20T03:58:56Z INFO     b_sz : 32 / epoch : 87 / len data : 375\n",
      "2024-04-20T03:59:00Z INFO     Epoch 87 | Training ckpt saved at ckpt.pt\n",
      "2024-04-20T03:59:00Z INFO     b_sz : 32 / epoch : 88 / len data : 375\n",
      "2024-04-20T03:59:05Z INFO     Epoch 88 | Training ckpt saved at ckpt.pt\n",
      "2024-04-20T03:59:05Z INFO     b_sz : 32 / epoch : 89 / len data : 375\n",
      "2024-04-20T03:59:10Z INFO     Epoch 89 | Training ckpt saved at ckpt.pt\n",
      "2024-04-20T03:59:10Z INFO     b_sz : 32 / epoch : 90 / len data : 375\n",
      "2024-04-20T03:59:14Z INFO     Epoch 90 | Training ckpt saved at ckpt.pt\n",
      "2024-04-20T03:59:14Z INFO     b_sz : 32 / epoch : 91 / len data : 375\n",
      "2024-04-20T03:59:19Z INFO     Epoch 91 | Training ckpt saved at ckpt.pt\n",
      "2024-04-20T03:59:19Z INFO     b_sz : 32 / epoch : 92 / len data : 375\n",
      "2024-04-20T03:59:24Z INFO     Epoch 92 | Training ckpt saved at ckpt.pt\n",
      "2024-04-20T03:59:24Z INFO     b_sz : 32 / epoch : 93 / len data : 375\n",
      "2024-04-20T03:59:29Z INFO     Epoch 93 | Training ckpt saved at ckpt.pt\n",
      "2024-04-20T03:59:29Z INFO     b_sz : 32 / epoch : 94 / len data : 375\n",
      "2024-04-20T03:59:34Z INFO     Epoch 94 | Training ckpt saved at ckpt.pt\n",
      "2024-04-20T03:59:34Z INFO     b_sz : 32 / epoch : 95 / len data : 375\n",
      "2024-04-20T03:59:39Z INFO     Epoch 95 | Training ckpt saved at ckpt.pt\n",
      "2024-04-20T03:59:39Z INFO     b_sz : 32 / epoch : 96 / len data : 375\n",
      "2024-04-20T03:59:43Z INFO     Epoch 96 | Training ckpt saved at ckpt.pt\n",
      "2024-04-20T03:59:43Z INFO     b_sz : 32 / epoch : 97 / len data : 375\n",
      "2024-04-20T03:59:48Z INFO     Epoch 97 | Training ckpt saved at ckpt.pt\n",
      "2024-04-20T03:59:48Z INFO     b_sz : 32 / epoch : 98 / len data : 375\n",
      "2024-04-20T03:59:53Z INFO     Epoch 98 | Training ckpt saved at ckpt.pt\n",
      "2024-04-20T03:59:53Z INFO     b_sz : 32 / epoch : 99 / len data : 375\n",
      "2024-04-20T03:59:58Z INFO     Epoch 99 | Training ckpt saved at ckpt.pt\n",
      "2024-04-20T03:59:58Z INFO     0:07:48.637308 sec\n",
      "Extracting data/FashionMNIST/raw/t10k-labels-idx1-ubyte.gz to data/FashionMNIST/raw\n",
      "\n",
      "\n"
     ]
    }
   ],
   "source": [
    "training_client.get_job_logs(pytorchjob_name, container=\"pytorch\")"
   ]
  },
  {
   "cell_type": "markdown",
   "id": "f8004890-82d9-4f97-b306-8ef2c88c0c8a",
   "metadata": {},
   "source": [
    "## Training Job 삭제"
   ]
  },
  {
   "cell_type": "code",
   "execution_count": 10,
   "id": "24a858e6-efb7-4200-ae49-ce2bb715c366",
   "metadata": {
    "tags": []
   },
   "outputs": [
    {
     "name": "stderr",
     "output_type": "stream",
     "text": [
      "INFO:root:PyTorchJob kbm-u-admin-jin/parallel-train-pytorch2 has been deleted\n"
     ]
    }
   ],
   "source": [
    "training_client.delete_pytorchjob(pytorchjob_name)"
   ]
  },
  {
   "cell_type": "code",
   "execution_count": null,
   "id": "3491642a-41c5-49c3-b9aa-6abc490b81ab",
   "metadata": {},
   "outputs": [],
   "source": []
  }
 ],
 "metadata": {
  "kernelspec": {
   "display_name": "Python 3",
   "language": "python",
   "name": "python3"
  },
  "language_info": {
   "codemirror_mode": {
    "name": "ipython",
    "version": 3
   },
   "file_extension": ".py",
   "mimetype": "text/x-python",
   "name": "python",
   "nbconvert_exporter": "python",
   "pygments_lexer": "ipython3",
   "version": "3.8.10"
  }
 },
 "nbformat": 4,
 "nbformat_minor": 5
}
